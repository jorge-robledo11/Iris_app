{
 "cells": [
  {
   "cell_type": "code",
   "execution_count": 1,
   "metadata": {},
   "outputs": [],
   "source": [
    "# Librerías\n",
    "from sklearn import datasets\n",
    "from sklearn.model_selection import train_test_split\n",
    "from sklearn.linear_model import LinearRegression, LogisticRegression\n",
    "from sklearn.svm import SVC\n",
    "import pickle\n",
    "\n",
    "# Cargar los datos\n",
    "data = datasets.load_iris()\n",
    "X = data.data\n",
    "y = data.target\n",
    "\n",
    "# Separar los datos\n",
    "X_train, X_test, y_train, y_test = train_test_split(X, y, shuffle=True, stratify=y)\n",
    "\n",
    "# Inicializar los modelos\n",
    "lr = LinearRegression()\n",
    "logit = LogisticRegression()\n",
    "svc = SVC()"
   ]
  },
  {
   "cell_type": "code",
   "execution_count": 2,
   "metadata": {},
   "outputs": [],
   "source": [
    "# Entrenar los modelos\n",
    "for model in [lr, logit, svc]:\n",
    "    model.fit(X_train, y_train)"
   ]
  },
  {
   "cell_type": "code",
   "execution_count": 8,
   "metadata": {},
   "outputs": [],
   "source": [
    "# Serializar los modelos\n",
    "for model in [lr, logit, svc]:\n",
    "    with open(f\"{type(model).__name__}.pkl\", 'wb') as file:\n",
    "        pickle.dump(model, file)"
   ]
  }
 ],
 "metadata": {
  "kernelspec": {
   "display_name": "Python 3.10.6 ('streamlit_venv')",
   "language": "python",
   "name": "python3"
  },
  "language_info": {
   "codemirror_mode": {
    "name": "ipython",
    "version": 3
   },
   "file_extension": ".py",
   "mimetype": "text/x-python",
   "name": "python",
   "nbconvert_exporter": "python",
   "pygments_lexer": "ipython3",
   "version": "3.10.6"
  },
  "orig_nbformat": 4,
  "vscode": {
   "interpreter": {
    "hash": "7d9e91d8f24331caafba82cd502b1df451648a5bfef06ad060303a30823fce07"
   }
  }
 },
 "nbformat": 4,
 "nbformat_minor": 2
}
